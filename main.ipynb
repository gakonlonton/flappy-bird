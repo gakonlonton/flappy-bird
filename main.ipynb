{
 "cells": [
  {
   "cell_type": "code",
   "execution_count": 128,
   "metadata": {},
   "outputs": [],
   "source": [
    "import pygame as pg\n",
    "import sys\n",
    "import random\n",
    "\n",
    "pg.init()\n",
    "clock = pg.time.Clock()"
   ]
  },
  {
   "cell_type": "code",
   "execution_count": 129,
   "metadata": {},
   "outputs": [],
   "source": [
    "sc_width = 405\n",
    "sc_height = 720\n",
    "screen = pg.display.set_mode((sc_width, sc_height))\n",
    "pg.display.set_caption(\"Flappy Bird\")\n",
    "icon_img = pg.image.load(\"favicon.png\")\n",
    "pg.display.set_icon(icon_img)\n",
    "\n",
    "game_running = True\n",
    "bird_movement = 0\n",
    "gravity = 0.18\n",
    "\n",
    "back_ground = pg.image.load(\"assets/background-day.png\").convert()\n",
    "back_ground = pg.transform.scale(back_ground, (sc_width, sc_height))\n",
    "\n",
    "bird = pg.image.load(\"assets/bluebird-midflap.png\").convert_alpha()\n",
    "bird_w, bird_h = bird.get_size()\n",
    "bird = pg.transform.scale(bird, (bird_w * 1.5, bird_h * 1.5))\n",
    "bird_rect = bird.get_rect(center=(72, 360))\n",
    "\n",
    "floor_base = pg.image.load(\"assets/base.png\").convert()\n",
    "floor_w, floor_h = floor_base.get_size()\n",
    "floor_base = pg.transform.scale(floor_base, (floor_w * 1.5, floor_h * 1.5))\n",
    "floor_pos = 0\n",
    "\n",
    "message = pg.image.load(\"assets/message.png\").convert_alpha()\n",
    "message_w, message_h = message.get_size()\n",
    "message = pg.transform.scale(message, (message_w * 1.5, message_h * 1.5)) \n",
    "message_rect = message.get_rect(center=(202, 360))\n",
    "\n",
    "pipes = pg.image.load(\"assets/pipe-green.png\")\n",
    "pipes_w, pipes_h = pipes.get_size()\n",
    "pipes = pg.transform.scale(pipes, (pipes_w * 1.5, pipes_h * 1.5))\n",
    "pipe_list = []\n",
    "pipe_length = [282, 422, 562]\n",
    "\n",
    "SPAWNPIPE = pg.USEREVENT\n",
    "pg.time.set_timer(SPAWNPIPE, 1200)\n",
    "\n",
    "flap_sound = pg.mixer.Sound(\"audio/wing.wav\")\n",
    "hit_sound = pg.mixer.Sound(\"audio/hit.wav\")"
   ]
  },
  {
   "cell_type": "code",
   "execution_count": 130,
   "metadata": {},
   "outputs": [],
   "source": [
    "def update_floor():\n",
    "    screen.blit(floor_base, (floor_pos, 633))\n",
    "    screen.blit(floor_base, (floor_pos + 405, 633))\n"
   ]
  },
  {
   "cell_type": "code",
   "execution_count": 131,
   "metadata": {},
   "outputs": [],
   "source": [
    "def check_collision(pipe_l):\n",
    "    # check collide with pipes\n",
    "    for pipe in pipe_l:\n",
    "        if bird_rect.colliderect(pipe):\n",
    "            hit_sound.play()\n",
    "            return False\n",
    "    # check collide with the floor\n",
    "    if bird_rect.top <= -70 or bird_rect.bottom >= 633:\n",
    "        hit_sound.play()\n",
    "        return False\n",
    "    return True"
   ]
  },
  {
   "cell_type": "code",
   "execution_count": 132,
   "metadata": {},
   "outputs": [],
   "source": [
    "def generate_pipes():\n",
    "    random_pos = random.choice(pipe_length)\n",
    "    bottom_pipe = pipes.get_rect(midtop=(492, random_pos))\n",
    "    top_pipe = pipes.get_rect(midbottom=(492, random_pos - 211))\n",
    "    return bottom_pipe, top_pipe"
   ]
  },
  {
   "cell_type": "code",
   "execution_count": 133,
   "metadata": {},
   "outputs": [],
   "source": [
    "def move_pipes(pipe_l):\n",
    "    for pipe in pipe_l:\n",
    "        pipe.centerx -= 3.5\n",
    "    return pipe_l"
   ]
  },
  {
   "cell_type": "code",
   "execution_count": 134,
   "metadata": {},
   "outputs": [],
   "source": [
    "def draw_pipes(pipe_l):\n",
    "    for pipe in pipe_l:\n",
    "        if pipe.bottom >= 720:\n",
    "            screen.blit(pipes, pipe)\n",
    "        else:\n",
    "            flip_pipe = pg.transform.flip(pipes, False, True)\n",
    "            screen.blit(flip_pipe, pipe)"
   ]
  },
  {
   "cell_type": "code",
   "execution_count": 135,
   "metadata": {},
   "outputs": [
    {
     "name": "stdout",
     "output_type": "stream",
     "text": [
      "[<rect(453, 422, 78, 480)>, <rect(453, -269, 78, 480)>]\n",
      "[<rect(30, 422, 78, 480)>, <rect(30, -269, 78, 480)>, <rect(453, 282, 78, 480)>, <rect(453, -409, 78, 480)>]\n",
      "[<rect(-516, 422, 78, 480)>, <rect(-516, -269, 78, 480)>, <rect(27, 282, 78, 480)>, <rect(27, -409, 78, 480)>, <rect(453, 282, 78, 480)>, <rect(453, -409, 78, 480)>]\n",
      "[<rect(-1084, 422, 78, 480)>, <rect(-1084, -269, 78, 480)>, <rect(-520, 282, 78, 480)>, <rect(-520, -409, 78, 480)>, <rect(27, 282, 78, 480)>, <rect(27, -409, 78, 480)>, <rect(453, 282, 78, 480)>, <rect(453, -409, 78, 480)>]\n",
      "[<rect(-1652, 422, 78, 480)>, <rect(-1652, -269, 78, 480)>, <rect(-1088, 282, 78, 480)>, <rect(-1088, -409, 78, 480)>, <rect(-520, 282, 78, 480)>, <rect(-520, -409, 78, 480)>, <rect(27, 282, 78, 480)>, <rect(27, -409, 78, 480)>, <rect(453, 282, 78, 480)>, <rect(453, -409, 78, 480)>]\n",
      "[<rect(-2216, 422, 78, 480)>, <rect(-2216, -269, 78, 480)>, <rect(-1652, 282, 78, 480)>, <rect(-1652, -409, 78, 480)>, <rect(-1084, 282, 78, 480)>, <rect(-1084, -409, 78, 480)>, <rect(-516, 282, 78, 480)>, <rect(-516, -409, 78, 480)>, <rect(30, 282, 78, 480)>, <rect(30, -409, 78, 480)>, <rect(453, 282, 78, 480)>, <rect(453, -409, 78, 480)>]\n",
      "[<rect(-2780, 422, 78, 480)>, <rect(-2780, -269, 78, 480)>, <rect(-2216, 282, 78, 480)>, <rect(-2216, -409, 78, 480)>, <rect(-1648, 282, 78, 480)>, <rect(-1648, -409, 78, 480)>, <rect(-1080, 282, 78, 480)>, <rect(-1080, -409, 78, 480)>, <rect(-512, 282, 78, 480)>, <rect(-512, -409, 78, 480)>, <rect(30, 282, 78, 480)>, <rect(30, -409, 78, 480)>, <rect(453, 422, 78, 480)>, <rect(453, -269, 78, 480)>]\n",
      "[<rect(-3344, 422, 78, 480)>, <rect(-3344, -269, 78, 480)>, <rect(-2780, 282, 78, 480)>, <rect(-2780, -409, 78, 480)>, <rect(-2212, 282, 78, 480)>, <rect(-2212, -409, 78, 480)>, <rect(-1644, 282, 78, 480)>, <rect(-1644, -409, 78, 480)>, <rect(-1076, 282, 78, 480)>, <rect(-1076, -409, 78, 480)>, <rect(-512, 282, 78, 480)>, <rect(-512, -409, 78, 480)>, <rect(30, 422, 78, 480)>, <rect(30, -269, 78, 480)>, <rect(453, 282, 78, 480)>, <rect(453, -409, 78, 480)>]\n",
      "[<rect(453, 282, 78, 480)>, <rect(453, -409, 78, 480)>]\n",
      "[<rect(453, 562, 78, 480)>, <rect(453, -129, 78, 480)>]\n",
      "[<rect(453, 562, 78, 480)>, <rect(453, -129, 78, 480)>]\n",
      "[<rect(453, 422, 78, 480)>, <rect(453, -269, 78, 480)>]\n",
      "[<rect(21, 422, 78, 480)>, <rect(21, -269, 78, 480)>, <rect(453, 422, 78, 480)>, <rect(453, -269, 78, 480)>]\n",
      "[<rect(-520, 422, 78, 480)>, <rect(-520, -269, 78, 480)>, <rect(33, 422, 78, 480)>, <rect(33, -269, 78, 480)>, <rect(453, 282, 78, 480)>, <rect(453, -409, 78, 480)>]\n",
      "[<rect(-1044, 422, 78, 480)>, <rect(-1044, -269, 78, 480)>, <rect(-468, 422, 78, 480)>, <rect(-468, -269, 78, 480)>, <rect(60, 282, 78, 480)>, <rect(60, -409, 78, 480)>, <rect(453, 282, 78, 480)>, <rect(453, -409, 78, 480)>]\n",
      "[<rect(-1592, 422, 78, 480)>, <rect(-1592, -269, 78, 480)>, <rect(-1016, 422, 78, 480)>, <rect(-1016, -269, 78, 480)>, <rect(-456, 282, 78, 480)>, <rect(-456, -409, 78, 480)>, <rect(42, 282, 78, 480)>, <rect(42, -409, 78, 480)>, <rect(453, 562, 78, 480)>, <rect(453, -129, 78, 480)>]\n"
     ]
    }
   ],
   "source": [
    "while True:\n",
    "    for event in pg.event.get():\n",
    "        if event.type == pg.QUIT:\n",
    "            pg.quit()\n",
    "            sys.exit()\n",
    "        if event.type == pg.KEYDOWN:\n",
    "            if event.key == pg.K_SPACE and game_running == True:\n",
    "                bird_movement = 0\n",
    "                bird_movement -= 7\n",
    "                flap_sound.play()\n",
    "            if event.key == pg.K_SPACE and game_running == False:\n",
    "                bird_rect.center = (72, 360)\n",
    "                bird_movement = 0\n",
    "                pipe_list.clear()\n",
    "                game_running = True\n",
    "        if event.type == SPAWNPIPE and game_running == True:\n",
    "            pipe_list.extend(generate_pipes())\n",
    "            print(pipe_list)\n",
    "\n",
    "    screen.blit(back_ground, (0, 0))\n",
    "\n",
    "    if game_running:\n",
    "        bird_movement += gravity\n",
    "        bird_rect.centery += bird_movement\n",
    "        screen.blit(bird, bird_rect)\n",
    "        pipe_list = move_pipes(pipe_list)\n",
    "        draw_pipes(pipe_list)\n",
    "        game_running = check_collision(pipe_list)\n",
    "    else:\n",
    "        screen.blit(message, message_rect)\n",
    "\n",
    "    floor_pos -= 1\n",
    "    update_floor()\n",
    "    if floor_pos <= -405:\n",
    "        floor_pos = 0\n",
    "\n",
    "    pg.display.update()\n",
    "    clock.tick(120)"
   ]
  }
 ],
 "metadata": {
  "kernelspec": {
   "display_name": "myenv",
   "language": "python",
   "name": "python3"
  },
  "language_info": {
   "codemirror_mode": {
    "name": "ipython",
    "version": 3
   },
   "file_extension": ".py",
   "mimetype": "text/x-python",
   "name": "python",
   "nbconvert_exporter": "python",
   "pygments_lexer": "ipython3",
   "version": "3.9.16"
  },
  "orig_nbformat": 4
 },
 "nbformat": 4,
 "nbformat_minor": 2
}
