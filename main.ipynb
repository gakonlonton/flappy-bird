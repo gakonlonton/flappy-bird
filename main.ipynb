{
 "cells": [
  {
   "cell_type": "code",
   "execution_count": 6,
   "metadata": {},
   "outputs": [
    {
     "data": {
      "text/plain": [
       "(5, 0)"
      ]
     },
     "execution_count": 6,
     "metadata": {},
     "output_type": "execute_result"
    }
   ],
   "source": [
    "import pygame as pg\n",
    "import sys\n",
    "import random\n",
    "\n",
    "pg.init()"
   ]
  },
  {
   "cell_type": "code",
   "execution_count": 7,
   "metadata": {},
   "outputs": [],
   "source": [
    "sc_width = 405\n",
    "sc_height = 720\n",
    "\n",
    "screen = pg.display.set_mode((sc_width, sc_height))\n",
    "\n",
    "back_ground = pg.image.load(\"assets/background-day.png\").convert()\n",
    "back_ground = pg.transform.scale(back_ground, (sc_width, sc_height))\n",
    "\n",
    "bird = pg.image.load(\"assets/bluebird-midflap.png\")\n",
    "bird_w, bird_h = bird.get_size();\n",
    "bird = pg.transform.scale(bird, (bird_w * 1.5, bird_h * 1.5))\n",
    "\n",
    "bird_movement = 0\n",
    "gravity = 0.25"
   ]
  },
  {
   "cell_type": "code",
   "execution_count": 8,
   "metadata": {},
   "outputs": [
    {
     "ename": "SystemExit",
     "evalue": "",
     "output_type": "error",
     "traceback": [
      "An exception has occurred, use %tb to see the full traceback.\n",
      "\u001b[1;31mSystemExit\u001b[0m\n"
     ]
    },
    {
     "name": "stderr",
     "output_type": "stream",
     "text": [
      "c:\\Users\\justa\\anaconda3\\envs\\myenv\\lib\\site-packages\\IPython\\core\\interactiveshell.py:3468: UserWarning: To exit: use 'exit', 'quit', or Ctrl-D.\n",
      "  warn(\"To exit: use 'exit', 'quit', or Ctrl-D.\", stacklevel=1)\n"
     ]
    }
   ],
   "source": [
    "while True:\n",
    "    for event in pg.event.get():\n",
    "        if event.type == pg.QUIT:\n",
    "            pg.quit()\n",
    "            sys.exit()\n",
    "        if event.type == pg.KEYDOWN:\n",
    "            if event.key == event.K_SPACE:\n",
    "                bird_movement -= 5\n",
    "\n",
    "    \n",
    "    screen.blit(back_ground, (0, 0))\n",
    "\n",
    "    bird_movement += gravity\n",
    "\n",
    "    screen.blit(bird, (72, bird_movement))\n",
    "    pg.display.update()"
   ]
  }
 ],
 "metadata": {
  "kernelspec": {
   "display_name": "myenv",
   "language": "python",
   "name": "python3"
  },
  "language_info": {
   "codemirror_mode": {
    "name": "ipython",
    "version": 3
   },
   "file_extension": ".py",
   "mimetype": "text/x-python",
   "name": "python",
   "nbconvert_exporter": "python",
   "pygments_lexer": "ipython3",
   "version": "3.9.16"
  },
  "orig_nbformat": 4
 },
 "nbformat": 4,
 "nbformat_minor": 2
}
