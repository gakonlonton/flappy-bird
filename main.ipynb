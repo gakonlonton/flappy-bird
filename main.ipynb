{
 "cells": [
  {
   "cell_type": "code",
   "execution_count": 143,
   "metadata": {},
   "outputs": [],
   "source": [
    "import pygame as pg\n",
    "import sys\n",
    "import random\n",
    "\n",
    "pg.init()\n",
    "clock = pg.time.Clock()"
   ]
  },
  {
   "cell_type": "code",
   "execution_count": 144,
   "metadata": {},
   "outputs": [],
   "source": [
    "def update_floor():\n",
    "    screen.blit(floor_base, (floor_pos, 633))\n",
    "    screen.blit(floor_base, (floor_pos + 405, 633))\n"
   ]
  },
  {
   "cell_type": "code",
   "execution_count": 145,
   "metadata": {},
   "outputs": [],
   "source": [
    "def check_collision():\n",
    "    # check collide with the floor\n",
    "    if bird_rect.top <= -70 or bird_rect.bottom >= 633:\n",
    "        return False\n",
    "    return True\n",
    "        "
   ]
  },
  {
   "cell_type": "code",
   "execution_count": 146,
   "metadata": {},
   "outputs": [],
   "source": [
    "sc_width = 405\n",
    "sc_height = 720\n",
    "screen = pg.display.set_mode((sc_width, sc_height))\n",
    "\n",
    "game_running = False\n",
    "bird_movement = 0\n",
    "gravity = 0.18\n",
    "\n",
    "back_ground = pg.image.load(\"assets/background-day.png\").convert()\n",
    "back_ground = pg.transform.scale(back_ground, (sc_width, sc_height))\n",
    "\n",
    "bird = pg.image.load(\"assets/bluebird-midflap.png\").convert_alpha()\n",
    "bird_w, bird_h = bird.get_size()\n",
    "bird = pg.transform.scale(bird, (bird_w * 1.5, bird_h * 1.5))\n",
    "bird_rect = bird.get_rect(center=(72, 360))\n",
    "\n",
    "floor_base = pg.image.load(\"assets/base.png\").convert()\n",
    "floor_w, floor_h = floor_base.get_size()\n",
    "floor_base = pg.transform.scale(floor_base, (floor_w * 1.5, floor_h * 1.5))\n",
    "floor_pos = 0\n",
    "\n",
    "message = pg.image.load(\"assets/message.png\").convert_alpha()\n",
    "message_w, message_h = message.get_size()\n",
    "message = pg.transform.scale(message, (message_w * 1.5, message_h * 1.5)) \n",
    "message_rect = message.get_rect(center=(202, 360))\n",
    "\n",
    "pipes = pg.image.load(\"assets/pipe-green.png\")\n",
    "pipes_w, pipes_h = pipes.get_size()\n",
    "pipes = pg.transform.scale(pipes, (pipes_w * 1.5, pipes_h * 1.5))\n",
    "pipe_list = []"
   ]
  },
  {
   "cell_type": "code",
   "execution_count": 147,
   "metadata": {},
   "outputs": [
    {
     "ename": "SystemExit",
     "evalue": "",
     "output_type": "error",
     "traceback": [
      "An exception has occurred, use %tb to see the full traceback.\n",
      "\u001b[1;31mSystemExit\u001b[0m\n"
     ]
    },
    {
     "name": "stderr",
     "output_type": "stream",
     "text": [
      "c:\\Users\\justa\\anaconda3\\envs\\myenv\\lib\\site-packages\\IPython\\core\\interactiveshell.py:3468: UserWarning: To exit: use 'exit', 'quit', or Ctrl-D.\n",
      "  warn(\"To exit: use 'exit', 'quit', or Ctrl-D.\", stacklevel=1)\n"
     ]
    }
   ],
   "source": [
    "while True:\n",
    "    for event in pg.event.get():\n",
    "        if event.type == pg.QUIT:\n",
    "            pg.quit()\n",
    "            sys.exit()\n",
    "        if event.type == pg.KEYDOWN:\n",
    "            if event.key == pg.K_SPACE and game_running == True:\n",
    "                bird_movement = 0\n",
    "                bird_movement -= 9\n",
    "            if event.key == pg.K_SPACE and game_running == False:\n",
    "                bird_rect.center = (72, 360)\n",
    "                bird_movement = 0\n",
    "                game_running = True\n",
    "\n",
    "    \n",
    "    screen.blit(back_ground, (0, 0))\n",
    "\n",
    "    if game_running:\n",
    "        bird_movement += gravity\n",
    "        bird_rect.centery += bird_movement\n",
    "        screen.blit(bird, bird_rect)\n",
    "\n",
    "        # check collision\n",
    "        game_running = check_collision()\n",
    "    else:\n",
    "        screen.blit(message, message_rect)\n",
    "\n",
    "    floor_pos -= 1\n",
    "    update_floor()\n",
    "    if floor_pos <= -405:\n",
    "        floor_pos = 0\n",
    "\n",
    "    pg.display.update()\n",
    "    clock.tick(120)"
   ]
  },
  {
   "cell_type": "code",
   "execution_count": null,
   "metadata": {},
   "outputs": [],
   "source": []
  }
 ],
 "metadata": {
  "kernelspec": {
   "display_name": "myenv",
   "language": "python",
   "name": "python3"
  },
  "language_info": {
   "codemirror_mode": {
    "name": "ipython",
    "version": 3
   },
   "file_extension": ".py",
   "mimetype": "text/x-python",
   "name": "python",
   "nbconvert_exporter": "python",
   "pygments_lexer": "ipython3",
   "version": "3.9.16"
  },
  "orig_nbformat": 4
 },
 "nbformat": 4,
 "nbformat_minor": 2
}
